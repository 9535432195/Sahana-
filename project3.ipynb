{
  "nbformat": 4,
  "nbformat_minor": 0,
  "metadata": {
    "colab": {
      "provenance": [],
      "authorship_tag": "ABX9TyMg7egtb4Y7AC8okocYI5r3",
      "include_colab_link": true
    },
    "kernelspec": {
      "name": "python3",
      "display_name": "Python 3"
    },
    "language_info": {
      "name": "python"
    }
  },
  "cells": [
    {
      "cell_type": "markdown",
      "metadata": {
        "id": "view-in-github",
        "colab_type": "text"
      },
      "source": [
        "<a href=\"https://colab.research.google.com/github/9535432195/Sahana-/blob/main/project3.ipynb\" target=\"_parent\"><img src=\"https://colab.research.google.com/assets/colab-badge.svg\" alt=\"Open In Colab\"/></a>"
      ]
    },
    {
      "cell_type": "code",
      "source": [
        "import spacy\n",
        "from transformers import pipeline\n",
        "\n",
        "nlp = spacy.load(\"en_core_web_sm\")\n",
        "\n",
        "summarizer = pipeline(\"summarization\", model=\"facebook/bart-large-cnn\")\n",
        "\n",
        "legal_text = \"\"\"\n",
        "This Agreement is made effective as of the date of signature, by and between Party A and Party B.\n",
        "Both parties agree to the terms outlined, including but not limited to confidentiality,\n",
        "non-disclosure, and intellectual property rights. In case of breach, the violating party will\n",
        "be subject to legal action. This Agreement is governed by the laws of the relevant jurisdiction.\n",
        "\"\"\"\n",
        "def extract_key_clauses(text):\n",
        "    \"\"\"Extracts sentences containing specific legal terms.\"\"\"\n",
        "    doc = nlp(text)\n",
        "    key_clauses = [\n",
        "        sent.text for sent in doc.sents\n",
        "        if \"agreement\" in sent.text.lower() or \"breach\" in sent.text.lower()\n",
        "    ]\n",
        "    return \" \".join(key_clauses)\n",
        "\n",
        "def summarize_text(text):\n",
        "    \"\"\"Summarizes the input text using a pre-trained summarization model.\"\"\"\n",
        "    summary = summarizer(text, max_length=100, min_length=30, do_sample=False)\n",
        "    return summary[0]['summary_text']\n",
        "\n",
        "key_clauses = extract_key_clauses(legal_text)\n",
        "print(\"\\n--- Extracted Key Clauses ---\")\n",
        "print(key_clauses)\n",
        "\n",
        "summary = summarize_text(key_clauses)\n",
        "print(\"\\n--- Summary ---\")\n",
        "print(summary)"
      ],
      "metadata": {
        "colab": {
          "base_uri": "https://localhost:8080/"
        },
        "id": "wgnT9iMJhAlI",
        "outputId": "68078b03-f03f-472a-b8b4-27216f621ff2"
      },
      "execution_count": 9,
      "outputs": [
        {
          "output_type": "stream",
          "name": "stderr",
          "text": [
            "/usr/local/lib/python3.10/dist-packages/transformers/tokenization_utils_base.py:1601: FutureWarning: `clean_up_tokenization_spaces` was not set. It will be set to `True` by default. This behavior will be depracted in transformers v4.45, and will be then set to `False` by default. For more details check this issue: https://github.com/huggingface/transformers/issues/31884\n",
            "  warnings.warn(\n",
            "Your max_length is set to 100, but your input_length is only 79. Since this is a summarization task, where outputs shorter than the input are typically wanted, you might consider decreasing max_length manually, e.g. summarizer('...', max_length=39)\n"
          ]
        },
        {
          "output_type": "stream",
          "name": "stdout",
          "text": [
            "\n",
            "--- Extracted Key Clauses ---\n",
            "This Agreement is made effective as of the date of signature, by and between Party A and Party B.\n",
            "Both parties agree to the terms outlined, including but not limited to confidentiality,\n",
            "non-disclosure, and intellectual property rights. In case of breach, the violating party will\n",
            "be subject to legal action. This Agreement is governed by the laws of the relevant jurisdiction.\n",
            "\n",
            "\n",
            "--- Summary ---\n",
            "Both parties agree to the terms outlined, including but not limited to confidentiality,non-disclosure, and intellectual property rights. In case of breach, the violating party will be subject to legal action.\n"
          ]
        }
      ]
    }
  ]
}