{
  "nbformat": 4,
  "nbformat_minor": 0,
  "metadata": {
    "colab": {
      "provenance": [],
      "authorship_tag": "ABX9TyPQXgqddzMPWZlA3IRvOjZK",
      "include_colab_link": true
    },
    "kernelspec": {
      "name": "python3",
      "display_name": "Python 3"
    },
    "language_info": {
      "name": "python"
    }
  },
  "cells": [
    {
      "cell_type": "markdown",
      "metadata": {
        "id": "view-in-github",
        "colab_type": "text"
      },
      "source": [
        "<a href=\"https://colab.research.google.com/github/9535432195/Sahana-/blob/main/project3.ipynb\" target=\"_parent\"><img src=\"https://colab.research.google.com/assets/colab-badge.svg\" alt=\"Open In Colab\"/></a>"
      ]
    },
    {
      "cell_type": "code",
      "source": [
        "import spacy\n",
        "from transformers import pipeline\n",
        "\n",
        "# Load SpaCy's small English model\n",
        "nlp = spacy.load(\"en_core_web_sm\")\n",
        "\n",
        "# Load the summarization model from Hugging Face Transformers\n",
        "summarizer = pipeline(\"summarization\", model=\"facebook/bart-large-cnn\")\n",
        "\n",
        "# Legal text to be analyzed\n",
        "legal_text = \"\"\"\n",
        "This Agreement is made effective as of the date of signature, by and between Party A and Party B.\n",
        "Both parties agree to the terms outlined, including but not limited to confidentiality,\n",
        "non-disclosure, and intellectual property rights. In case of breach, the violating party will\n",
        "be subject to legal action. This Agreement is governed by the laws of the relevant jurisdiction.\n",
        "\"\"\"\n",
        "\n",
        "# Extract key clauses based on specific keywords\n",
        "def extract_key_clauses(text):\n",
        "    \"\"\"Extracts sentences containing specific legal terms.\"\"\"\n",
        "    doc = nlp(text)\n",
        "    key_clauses = [\n",
        "        sent.text for sent in doc.sents\n",
        "        if \"agreement\" in sent.text.lower() or \"breach\" in sent.text.lower()\n",
        "    ]\n",
        "    return \" \".join(key_clauses)\n",
        "\n",
        "# Summarize the extracted clauses using the Transformer-based summarizer\n",
        "def summarize_text(text):\n",
        "    \"\"\"Summarizes the input text using a pre-trained summarization model.\"\"\"\n",
        "    summary = summarizer(text, max_length=100, min_length=30, do_sample=False)\n",
        "    return summary[0]['summary_text']\n",
        "\n",
        "# Extract and summarize the legal clauses\n",
        "key_clauses = extract_key_clauses(legal_text)\n",
        "print(\"\\n--- Extracted Key Clauses ---\")\n",
        "print(key_clauses)\n",
        "\n",
        "summary = summarize_text(key_clauses)\n",
        "print(\"\\n--- Summary ---\")\n",
        "print(summary)"
      ],
      "metadata": {
        "colab": {
          "base_uri": "https://localhost:8080/"
        },
        "id": "EirEAG1SZf_A",
        "outputId": "b203b636-eafd-437c-e413-948678b8e981"
      },
      "execution_count": 7,
      "outputs": [
        {
          "output_type": "stream",
          "name": "stderr",
          "text": [
            "Your max_length is set to 100, but your input_length is only 82. Since this is a summarization task, where outputs shorter than the input are typically wanted, you might consider decreasing max_length manually, e.g. summarizer('...', max_length=41)\n"
          ]
        },
        {
          "output_type": "stream",
          "name": "stdout",
          "text": [
            "\n",
            "--- Extracted Key Clauses ---\n",
            "This Agreement is made effective as of the date of signature, by and between Party A and Party B. \n",
            "Both parties agree to the terms outlined, including but not limited to confidentiality, \n",
            "non-disclosure, and intellectual property rights. In case of breach, the violating party will \n",
            "be subject to legal action. This Agreement is governed by the laws of the relevant jurisdiction.\n",
            "\n",
            "\n",
            "--- Summary ---\n",
            "Both parties agree to the terms outlined, including but not limited to confidentiality, non-disclosure, and intellectual property rights. In case of breach, the violating party will be subject to legal action. This Agreement is governed by the laws of the relevant jurisdiction.\n"
          ]
        }
      ]
    }
  ]
}