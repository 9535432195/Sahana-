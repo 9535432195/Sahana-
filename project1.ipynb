{
  "nbformat": 4,
  "nbformat_minor": 0,
  "metadata": {
    "colab": {
      "provenance": [],
      "authorship_tag": "ABX9TyNLNeFSAgSSIxT+0j2jYkZk",
      "include_colab_link": true
    },
    "kernelspec": {
      "name": "python3",
      "display_name": "Python 3"
    },
    "language_info": {
      "name": "python"
    }
  },
  "cells": [
    {
      "cell_type": "markdown",
      "metadata": {
        "id": "view-in-github",
        "colab_type": "text"
      },
      "source": [
        "<a href=\"https://colab.research.google.com/github/9535432195/Sahana-/blob/main/Untitled14.ipynb\" target=\"_parent\"><img src=\"https://colab.research.google.com/assets/colab-badge.svg\" alt=\"Open In Colab\"/></a>"
      ]
    },
    {
      "cell_type": "code",
      "execution_count": 1,
      "metadata": {
        "colab": {
          "base_uri": "https://localhost:8080/"
        },
        "id": "VURSt3607ox6",
        "outputId": "9179739f-c637-4102-e75b-e1a3767ce241"
      },
      "outputs": [
        {
          "output_type": "stream",
          "name": "stdout",
          "text": [
            "Hi! I'm a simple chatbot. Type 'quit' to exit.\n",
            ">hii\n",
            "Hello!\n",
            ">how are you\n",
            "I am doing well, thank you!\n",
            ">ok bye\n",
            "I am not sure how to respond to that.\n",
            ">quit\n",
            "Goodbye!\n"
          ]
        }
      ],
      "source": [
        "import nltk\n",
        "from nltk.chat.util import Chat, reflections\n",
        "\n",
        "# Define the pairs of patterns and responses\n",
        "pairs = [\n",
        "    [r'hi|hello|hey', ['Hello!', 'Hi there!', 'Hey!']],\n",
        "    [r'how are you?', ['I am doing well, thank you!', 'I am just a bot, but thanks for asking!']],\n",
        "    [r'what is your name?', ['I am a simple chatbot created by you.']],\n",
        "    [r'quit', ['Goodbye!', 'See you later!']],\n",
        "    [r'(.*)', ['I am not sure how to respond to that.']]\n",
        "]\n",
        "\n",
        "# Create the chatbot function\n",
        "def chatbot():\n",
        "    print(\"Hi! I'm a simple chatbot. Type 'quit' to exit.\")\n",
        "    chat = Chat(pairs, reflections)\n",
        "    chat.converse()\n",
        "\n",
        "# Run the chatbot\n",
        "if __name__ == \"__main__\":\n",
        "    chatbot()\n"
      ]
    }
  ]
}
