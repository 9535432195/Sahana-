{
  "nbformat": 4,
  "nbformat_minor": 0,
  "metadata": {
    "colab": {
      "provenance": [],
      "authorship_tag": "ABX9TyMUbpe1YgdYR6mh7Vlpxmic",
      "include_colab_link": true
    },
    "kernelspec": {
      "name": "python3",
      "display_name": "Python 3"
    },
    "language_info": {
      "name": "python"
    }
  },
  "cells": [
    {
      "cell_type": "markdown",
      "metadata": {
        "id": "view-in-github",
        "colab_type": "text"
      },
      "source": [
        "<a href=\"https://colab.research.google.com/github/9535432195/Sahana-/blob/main/project1.ipynb\" target=\"_parent\"><img src=\"https://colab.research.google.com/assets/colab-badge.svg\" alt=\"Open In Colab\"/></a>"
      ]
    },
    {
      "cell_type": "code",
      "source": [
        "import nltk\n",
        "from nltk.chat.util import Chat, reflections\n",
        "\n",
        "pairs = [\n",
        "    (r\"hi|hello|hey\", [\"Hello!\", \"Hi there!\", \"Hey!\"]),\n",
        "    (r\"how are you ?\", [\"I'm a bot, but I'm doing well!\", \"I'm here to help!\"]),\n",
        "    (r\"what is your name ?\", [\"I'm a chatbot created by you.\"]),\n",
        "    (r\"bye|exit|quit\", [\"Goodbye!\", \"See you later!\", \"Take care!\"]),\n",
        "    (r\"(.*) your (.*)\", [\"I don't have %2, but tell me more about %2.\"]),\n",
        "    (r\"(.*) help (.*)\", [\"I'm here to assist you. How can I help?\"]),\n",
        "    (r\"(.*)\", [\"I'm not sure I understand. Can you rephrase?\"])\n",
        "]\n",
        "\n",
        "chatbot = Chat(pairs, reflections)\n",
        "chatbot.converse()\n"
      ],
      "metadata": {
        "colab": {
          "base_uri": "https://localhost:8080/"
        },
        "id": "u6bBnBhKESj1",
        "outputId": "b52ff3af-5794-40f4-9e82-ef3938a6ac5a"
      },
      "execution_count": null,
      "outputs": [
        {
          "output_type": "stream",
          "name": "stdout",
          "text": [
            ">hii\n",
            "Hey!\n",
            ">how r u\n",
            "I'm not sure I understand. Can you rephrase?\n",
            ">how are you\n",
            "I'm here to help!\n",
            ">bye\n",
            "See you later!\n"
          ]
        }
      ]
    }
  ]
}