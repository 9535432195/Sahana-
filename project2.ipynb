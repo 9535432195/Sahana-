{
  "nbformat": 4,
  "nbformat_minor": 0,
  "metadata": {
    "colab": {
      "provenance": [],
      "authorship_tag": "ABX9TyNWcNYZ6HoKjsdCqL77fn5E",
      "include_colab_link": true
    },
    "kernelspec": {
      "name": "python3",
      "display_name": "Python 3"
    },
    "language_info": {
      "name": "python"
    }
  },
  "cells": [
    {
      "cell_type": "markdown",
      "metadata": {
        "id": "view-in-github",
        "colab_type": "text"
      },
      "source": [
        "<a href=\"https://colab.research.google.com/github/9535432195/Sahana-/blob/main/project2.ipynb\" target=\"_parent\"><img src=\"https://colab.research.google.com/assets/colab-badge.svg\" alt=\"Open In Colab\"/></a>"
      ]
    },
    {
      "cell_type": "code",
      "source": [
        "import spacy\n",
        "from transformers import pipeline\n",
        "nlp = spacy.load(\"en_core_web_sm\")\n",
        "\n",
        "summarizer = pipeline(\"summarization\", model=\"facebook/bart-large-cnn\")\n",
        "\n",
        "legal_text = \"\"\"\n",
        "This Agreement is made effective as of the date of signature, by and between Party A and Party B.\n",
        "Both parties agree to the terms outlined, including but not limited to confidentiality, non-disclosure, and indemnity clauses.\n",
        "In case of breach, the party in violation will be subject to legal action. This Agreement is governed by the laws of the state of New York.\n",
        "\"\"\"\n",
        "\n",
        "doc = nlp(legal_text)\n",
        "key_clauses = [sent.text for sent in doc.sents if 'agreement' in sent.text.lower() or 'breach' in sent.text.lower()]\n",
        "\n",
        "input_text = \" \".join(key_clauses)\n",
        "\n",
        "summary = summarizer(input_text, max_length=50, min_length=20, do_sample=False)[0]['summary_text']\n",
        "\n",
        "print(\"Extracted Summary:\")\n",
        "print(summary)\n"
      ],
      "metadata": {
        "colab": {
          "base_uri": "https://localhost:8080/"
        },
        "id": "P1LyJnIRHTs7",
        "outputId": "26aacea8-ade1-4288-895d-61e66778c5f9"
      },
      "execution_count": 8,
      "outputs": [
        {
          "output_type": "stream",
          "name": "stdout",
          "text": [
            "Extracted Summary:\n",
            "Both parties agree to the terms outlined, including but not limited to confidentiality, non-disclosure, and indemnity clauses. In case of breach, the party in violation will be subject to legal action. This Agreement is governed by the\n"
          ]
        }
      ]
    }
  ]
}